{
 "cells": [
  {
   "cell_type": "markdown",
   "metadata": {},
   "source": [
    "## Final Project Submission\n",
    "\n",
    "Please fill out:\n",
    "* Student name: ``William Muthama``\n",
    "* Student pace: ``part time hybrid``\n",
    "* Scheduled project review date/time: ``23rd July to 30th July``\n",
    "* Instructor name: ``Anthonny Muiko``\n",
    "* Blog post URL: `` https://github.com/WILLY-GUSH/dsc-phase-2-project-v3 ``\n"
   ]
  },
  {
   "cell_type": "markdown",
   "metadata": {},
   "source": [
    "## Overview\n",
    "This analysis aims to guide Trupress's entry into film production by examining data from the film industry to identify the optimal director, release month, and genres for a high Return on Investment film."
   ]
  },
  {
   "cell_type": "markdown",
   "metadata": {},
   "source": [
    "## Business Problem\n",
    "Trupress plans to start a movie studio to create original content. Using data from IMDb and The Numbers, I will analyze various films to determine the best directors, release months, and genres for achieving the highest Return on Investment."
   ]
  },
  {
   "cell_type": "markdown",
   "metadata": {},
   "source": [
    "## Data Understanding\n",
    "The data sources include:\n",
    "\n",
    "-``IMDB``\n",
    "\n",
    "-``The Numbers``\n",
    "\n",
    "These datasets provide information on film titles, release dates, genres, gross profits, and production budgets. Combining this data will help identify the most profitable options for Trupress's new movie studio."
   ]
  },
  {
   "cell_type": "code",
   "execution_count": 63,
   "metadata": {},
   "outputs": [],
   "source": [
    "# Import libraries\n",
    "import pandas as pd\n",
    "import sqlite3\n",
    "import matplotlib.pyplot as plt\n",
    "%matplotlib inline"
   ]
  },
  {
   "cell_type": "code",
   "execution_count": 64,
   "metadata": {},
   "outputs": [],
   "source": [
    "# Load IMDb data\n",
    "conn = sqlite3.connect(\"im.db\")\n",
    "query = \"\"\"\n",
    "SELECT\n",
    "    mb.primary_title AS movie_title,\n",
    "    mb.genres,\n",
    "    p.primary_name AS director_name\n",
    "FROM movie_basics AS mb\n",
    "JOIN directors AS d ON mb.movie_id = d.movie_id\n",
    "JOIN persons AS p ON d.person_id = p.person_id\n",
    "GROUP BY mb.primary_title\n",
    "HAVING primary_profession LIKE '%director%'\n",
    "\"\"\"\n",
    "imdb = pd.read_sql(query, conn)"
   ]
  },
  {
   "cell_type": "code",
   "execution_count": 65,
   "metadata": {},
   "outputs": [],
   "source": [
    "# Load The Numbers data\n",
    "tn_mb = pd.read_csv('bom.movie_gross.csv')"
   ]
  },
  {
   "cell_type": "code",
   "execution_count": 66,
   "metadata": {},
   "outputs": [
    {
     "name": "stdout",
     "output_type": "stream",
     "text": [
      "<class 'pandas.core.frame.DataFrame'>\n",
      "RangeIndex: 121179 entries, 0 to 121178\n",
      "Data columns (total 3 columns):\n",
      " #   Column         Non-Null Count   Dtype \n",
      "---  ------         --------------   ----- \n",
      " 0   movie_title    121179 non-null  object\n",
      " 1   genres         118367 non-null  object\n",
      " 2   director_name  121179 non-null  object\n",
      "dtypes: object(3)\n",
      "memory usage: 2.8+ MB\n"
     ]
    }
   ],
   "source": [
    "# Display data information\n",
    "imdb.info()"
   ]
  },
  {
   "cell_type": "code",
   "execution_count": 67,
   "metadata": {},
   "outputs": [
    {
     "name": "stdout",
     "output_type": "stream",
     "text": [
      "<class 'pandas.core.frame.DataFrame'>\n",
      "RangeIndex: 3387 entries, 0 to 3386\n",
      "Data columns (total 5 columns):\n",
      " #   Column          Non-Null Count  Dtype  \n",
      "---  ------          --------------  -----  \n",
      " 0   title           3387 non-null   object \n",
      " 1   studio          3382 non-null   object \n",
      " 2   domestic_gross  3359 non-null   float64\n",
      " 3   foreign_gross   2037 non-null   object \n",
      " 4   year            3387 non-null   int64  \n",
      "dtypes: float64(1), int64(1), object(3)\n",
      "memory usage: 132.4+ KB\n"
     ]
    }
   ],
   "source": [
    "# Display data information\n",
    "tn_mb.info()"
   ]
  },
  {
   "cell_type": "markdown",
   "metadata": {},
   "source": [
    "## IMDB Data Overview:\n",
    "\n",
    "The IMDB dataset, which is the primary source for this project, includes records from the movie_basics and persons tables. It features over 120,000 film titles ``(movie_title)``, various genres ``(genres)``, and directors' names ``(director_name)``."
   ]
  },
  {
   "cell_type": "code",
   "execution_count": 68,
   "metadata": {},
   "outputs": [
    {
     "data": {
      "text/html": [
       "<div>\n",
       "<style scoped>\n",
       "    .dataframe tbody tr th:only-of-type {\n",
       "        vertical-align: middle;\n",
       "    }\n",
       "\n",
       "    .dataframe tbody tr th {\n",
       "        vertical-align: top;\n",
       "    }\n",
       "\n",
       "    .dataframe thead th {\n",
       "        text-align: right;\n",
       "    }\n",
       "</style>\n",
       "<table border=\"1\" class=\"dataframe\">\n",
       "  <thead>\n",
       "    <tr style=\"text-align: right;\">\n",
       "      <th></th>\n",
       "      <th>movie_title</th>\n",
       "      <th>genres</th>\n",
       "      <th>director_name</th>\n",
       "    </tr>\n",
       "  </thead>\n",
       "  <tbody>\n",
       "    <tr>\n",
       "      <th>0</th>\n",
       "      <td>!Women Art Revolution</td>\n",
       "      <td>Documentary</td>\n",
       "      <td>Lynn Hershman-Leeson</td>\n",
       "    </tr>\n",
       "    <tr>\n",
       "      <th>1</th>\n",
       "      <td>#1 Serial Killer</td>\n",
       "      <td>Horror</td>\n",
       "      <td>Stanley Yung</td>\n",
       "    </tr>\n",
       "    <tr>\n",
       "      <th>2</th>\n",
       "      <td>#5</td>\n",
       "      <td>Biography,Comedy,Fantasy</td>\n",
       "      <td>Ricky Bardy</td>\n",
       "    </tr>\n",
       "    <tr>\n",
       "      <th>3</th>\n",
       "      <td>#50Fathers</td>\n",
       "      <td>Comedy</td>\n",
       "      <td>Joddy Eric Matthews</td>\n",
       "    </tr>\n",
       "    <tr>\n",
       "      <th>4</th>\n",
       "      <td>#66</td>\n",
       "      <td>Action</td>\n",
       "      <td>Asun Mawardi</td>\n",
       "    </tr>\n",
       "  </tbody>\n",
       "</table>\n",
       "</div>"
      ],
      "text/plain": [
       "             movie_title                    genres         director_name\n",
       "0  !Women Art Revolution               Documentary  Lynn Hershman-Leeson\n",
       "1       #1 Serial Killer                    Horror          Stanley Yung\n",
       "2                     #5  Biography,Comedy,Fantasy           Ricky Bardy\n",
       "3             #50Fathers                    Comedy   Joddy Eric Matthews\n",
       "4                    #66                    Action          Asun Mawardi"
      ]
     },
     "execution_count": 68,
     "metadata": {},
     "output_type": "execute_result"
    }
   ],
   "source": [
    "# Display the first five rows\n",
    "imdb.head()"
   ]
  },
  {
   "cell_type": "code",
   "execution_count": 69,
   "metadata": {},
   "outputs": [
    {
     "data": {
      "text/plain": [
       "Documentary                 28141\n",
       "Drama                       17947\n",
       "Comedy                       7812\n",
       "Horror                       3455\n",
       "Comedy,Drama                 2949\n",
       "                            ...  \n",
       "Animation,Music,Thriller        1\n",
       "Horror,Musical,Romance          1\n",
       "Comedy,Family,History           1\n",
       "Adventure,Crime                 1\n",
       "Comedy,Music,Thriller           1\n",
       "Name: genres, Length: 1035, dtype: int64"
      ]
     },
     "execution_count": 69,
     "metadata": {},
     "output_type": "execute_result"
    }
   ],
   "source": [
    "# Extract genres and make calculations of each unique genre\n",
    "imdb['genres'].value_counts()"
   ]
  },
  {
   "cell_type": "code",
   "execution_count": 70,
   "metadata": {},
   "outputs": [
    {
     "data": {
      "text/plain": [
       "Omer Pasha                   62\n",
       "Stephan Düfel                48\n",
       "Rajiv Chilaka                47\n",
       "Larry Rosen                  45\n",
       "Gérard Courant               44\n",
       "Graeme Duane                 44\n",
       "Claudio Costa                42\n",
       "Nayato Fio Nuala             40\n",
       "Eckhart Schmidt              36\n",
       "Tetsuya Takehora             33\n",
       "Charlie Minn                 29\n",
       "Paul T.T. Easter             27\n",
       "Yoshikazu Katô               27\n",
       "Philip Gardiner              26\n",
       "Narinderpal Singh Chandok    26\n",
       "David DeCoteau               26\n",
       "Kazuyoshi Sekine             25\n",
       "Mototsugu Watanabe           25\n",
       "Manny Velazquez              25\n",
       "Ram Gopal Varma              25\n",
       "Name: director_name, dtype: int64"
      ]
     },
     "execution_count": 70,
     "metadata": {},
     "output_type": "execute_result"
    }
   ],
   "source": [
    "# first 20 entries\n",
    "imdb['director_name'].value_counts()[:20]"
   ]
  },
  {
   "cell_type": "markdown",
   "metadata": {},
   "source": [
    "## Data Cleaning\n",
    "### IDBM Data Cleaning\n",
    "\n",
    "For The Numbers dataset, I will rename the columns, extract the release month, remove unnecessary columns, convert financial columns to floats, and reformat the foreign gross to a more readable number. \n",
    "\n",
    "Additionally, I'll remove records without domestic or foreign gross profit."
   ]
  },
  {
   "cell_type": "code",
   "execution_count": 71,
   "metadata": {},
   "outputs": [],
   "source": [
    "# Rename the movie column\n",
    "tn_mb.rename(columns={'title': 'movie_title'}, inplace=True)"
   ]
  },
  {
   "cell_type": "code",
   "execution_count": 72,
   "metadata": {},
   "outputs": [
    {
     "data": {
      "text/plain": [
       "Index(['movie_title', 'studio', 'domestic_gross', 'foreign_gross', 'year'], dtype='object')"
      ]
     },
     "execution_count": 72,
     "metadata": {},
     "output_type": "execute_result"
    }
   ],
   "source": [
    "# Display the columns\n",
    "tn_mb.columns"
   ]
  },
  {
   "cell_type": "code",
   "execution_count": 73,
   "metadata": {},
   "outputs": [],
   "source": [
    "# Extract the release month from the release date\n",
    "tn_mb['year'] = tn_mb['year'].astype(str)"
   ]
  },
  {
   "cell_type": "code",
   "execution_count": 74,
   "metadata": {},
   "outputs": [],
   "source": [
    "# Convert financial columns to float\n",
    "tn_mb['domestic_gross'] = tn_mb['domestic_gross'].replace('[\\$,]', '', regex=True).astype(float)\n",
    "tn_mb['foreign_gross'] = tn_mb['foreign_gross'].replace('[\\$,]', '', regex=True).astype(float)\n"
   ]
  },
  {
   "cell_type": "code",
   "execution_count": 75,
   "metadata": {},
   "outputs": [],
   "source": [
    "# Remove records with both domestic and worldwide gross equal to 0\n",
    "tn_mb = tn_mb[(tn_mb['domestic_gross'] != 0) & (tn_mb['foreign_gross'] != 0)]"
   ]
  },
  {
   "cell_type": "markdown",
   "metadata": {},
   "source": [
    "## Merging Datasets\n",
    "\n",
    "Combining the data from The Numbers and IMDB allows for a unified dataset for feature engineering and analysis. I'll exclude unmatched records to avoid missing values."
   ]
  },
  {
   "cell_type": "code",
   "execution_count": 76,
   "metadata": {},
   "outputs": [
    {
     "name": "stdout",
     "output_type": "stream",
     "text": [
      "<class 'pandas.core.frame.DataFrame'>\n",
      "Int64Index: 3387 entries, 0 to 3386\n",
      "Data columns (total 5 columns):\n",
      " #   Column          Non-Null Count  Dtype  \n",
      "---  ------          --------------  -----  \n",
      " 0   movie_title     3387 non-null   object \n",
      " 1   studio          3382 non-null   object \n",
      " 2   domestic_gross  3359 non-null   float64\n",
      " 3   foreign_gross   2037 non-null   float64\n",
      " 4   year            3387 non-null   object \n",
      "dtypes: float64(2), object(3)\n",
      "memory usage: 158.8+ KB\n"
     ]
    }
   ],
   "source": [
    "tn_mb.info()"
   ]
  },
  {
   "cell_type": "code",
   "execution_count": 77,
   "metadata": {},
   "outputs": [
    {
     "data": {
      "text/html": [
       "<div>\n",
       "<style scoped>\n",
       "    .dataframe tbody tr th:only-of-type {\n",
       "        vertical-align: middle;\n",
       "    }\n",
       "\n",
       "    .dataframe tbody tr th {\n",
       "        vertical-align: top;\n",
       "    }\n",
       "\n",
       "    .dataframe thead th {\n",
       "        text-align: right;\n",
       "    }\n",
       "</style>\n",
       "<table border=\"1\" class=\"dataframe\">\n",
       "  <thead>\n",
       "    <tr style=\"text-align: right;\">\n",
       "      <th></th>\n",
       "      <th>movie_title</th>\n",
       "      <th>studio</th>\n",
       "      <th>domestic_gross</th>\n",
       "      <th>foreign_gross</th>\n",
       "      <th>year</th>\n",
       "    </tr>\n",
       "  </thead>\n",
       "  <tbody>\n",
       "    <tr>\n",
       "      <th>0</th>\n",
       "      <td>Toy Story 3</td>\n",
       "      <td>BV</td>\n",
       "      <td>415000000.0</td>\n",
       "      <td>652000000.0</td>\n",
       "      <td>2010</td>\n",
       "    </tr>\n",
       "    <tr>\n",
       "      <th>1</th>\n",
       "      <td>Alice in Wonderland (2010)</td>\n",
       "      <td>BV</td>\n",
       "      <td>334200000.0</td>\n",
       "      <td>691300000.0</td>\n",
       "      <td>2010</td>\n",
       "    </tr>\n",
       "    <tr>\n",
       "      <th>2</th>\n",
       "      <td>Harry Potter and the Deathly Hallows Part 1</td>\n",
       "      <td>WB</td>\n",
       "      <td>296000000.0</td>\n",
       "      <td>664300000.0</td>\n",
       "      <td>2010</td>\n",
       "    </tr>\n",
       "    <tr>\n",
       "      <th>3</th>\n",
       "      <td>Inception</td>\n",
       "      <td>WB</td>\n",
       "      <td>292600000.0</td>\n",
       "      <td>535700000.0</td>\n",
       "      <td>2010</td>\n",
       "    </tr>\n",
       "    <tr>\n",
       "      <th>4</th>\n",
       "      <td>Shrek Forever After</td>\n",
       "      <td>P/DW</td>\n",
       "      <td>238700000.0</td>\n",
       "      <td>513900000.0</td>\n",
       "      <td>2010</td>\n",
       "    </tr>\n",
       "  </tbody>\n",
       "</table>\n",
       "</div>"
      ],
      "text/plain": [
       "                                   movie_title studio  domestic_gross  \\\n",
       "0                                  Toy Story 3     BV     415000000.0   \n",
       "1                   Alice in Wonderland (2010)     BV     334200000.0   \n",
       "2  Harry Potter and the Deathly Hallows Part 1     WB     296000000.0   \n",
       "3                                    Inception     WB     292600000.0   \n",
       "4                          Shrek Forever After   P/DW     238700000.0   \n",
       "\n",
       "   foreign_gross  year  \n",
       "0    652000000.0  2010  \n",
       "1    691300000.0  2010  \n",
       "2    664300000.0  2010  \n",
       "3    535700000.0  2010  \n",
       "4    513900000.0  2010  "
      ]
     },
     "execution_count": 77,
     "metadata": {},
     "output_type": "execute_result"
    }
   ],
   "source": [
    "tn_mb.head()"
   ]
  },
  {
   "cell_type": "code",
   "execution_count": 78,
   "metadata": {},
   "outputs": [],
   "source": [
    "# Merge datasets on the 'movie_title' column\n",
    "movie_data = pd.merge(tn_mb, imdb, on='movie_title', how='inner')\n"
   ]
  },
  {
   "cell_type": "code",
   "execution_count": 79,
   "metadata": {},
   "outputs": [],
   "source": [
    "# Create ROI column\n",
    "movie_data['roi'] = movie_data['foreign_gross'] - movie_data['domestic_gross']\n"
   ]
  },
  {
   "cell_type": "code",
   "execution_count": 80,
   "metadata": {},
   "outputs": [],
   "source": [
    "# Reorder and drop unnecessary columns\n",
    "movie_data = movie_data[['movie_title', 'year', 'genres', 'director_name', 'roi']]"
   ]
  },
  {
   "cell_type": "code",
   "execution_count": 95,
   "metadata": {},
   "outputs": [
    {
     "data": {
      "text/html": [
       "<div>\n",
       "<style scoped>\n",
       "    .dataframe tbody tr th:only-of-type {\n",
       "        vertical-align: middle;\n",
       "    }\n",
       "\n",
       "    .dataframe tbody tr th {\n",
       "        vertical-align: top;\n",
       "    }\n",
       "\n",
       "    .dataframe thead th {\n",
       "        text-align: right;\n",
       "    }\n",
       "</style>\n",
       "<table border=\"1\" class=\"dataframe\">\n",
       "  <thead>\n",
       "    <tr style=\"text-align: right;\">\n",
       "      <th></th>\n",
       "      <th>movie_title</th>\n",
       "      <th>year</th>\n",
       "      <th>genres</th>\n",
       "      <th>director_name</th>\n",
       "      <th>roi</th>\n",
       "    </tr>\n",
       "  </thead>\n",
       "  <tbody>\n",
       "    <tr>\n",
       "      <th>0</th>\n",
       "      <td>Inception</td>\n",
       "      <td>2010</td>\n",
       "      <td>Action,Adventure,Sci-Fi</td>\n",
       "      <td>Christopher Nolan</td>\n",
       "      <td>243100000.0</td>\n",
       "    </tr>\n",
       "    <tr>\n",
       "      <th>1</th>\n",
       "      <td>Shrek Forever After</td>\n",
       "      <td>2010</td>\n",
       "      <td>Adventure,Animation,Comedy</td>\n",
       "      <td>Mike Mitchell</td>\n",
       "      <td>275200000.0</td>\n",
       "    </tr>\n",
       "    <tr>\n",
       "      <th>2</th>\n",
       "      <td>The Twilight Saga: Eclipse</td>\n",
       "      <td>2010</td>\n",
       "      <td>Adventure,Drama,Fantasy</td>\n",
       "      <td>David Slade</td>\n",
       "      <td>97500000.0</td>\n",
       "    </tr>\n",
       "    <tr>\n",
       "      <th>3</th>\n",
       "      <td>Tangled</td>\n",
       "      <td>2010</td>\n",
       "      <td>Adventure,Animation,Comedy</td>\n",
       "      <td>Byron Howard</td>\n",
       "      <td>190200000.0</td>\n",
       "    </tr>\n",
       "    <tr>\n",
       "      <th>4</th>\n",
       "      <td>Despicable Me</td>\n",
       "      <td>2010</td>\n",
       "      <td>Animation,Comedy,Family</td>\n",
       "      <td>Chris Renaud</td>\n",
       "      <td>40100000.0</td>\n",
       "    </tr>\n",
       "  </tbody>\n",
       "</table>\n",
       "</div>"
      ],
      "text/plain": [
       "                  movie_title  year                      genres  \\\n",
       "0                   Inception  2010     Action,Adventure,Sci-Fi   \n",
       "1         Shrek Forever After  2010  Adventure,Animation,Comedy   \n",
       "2  The Twilight Saga: Eclipse  2010     Adventure,Drama,Fantasy   \n",
       "3                     Tangled  2010  Adventure,Animation,Comedy   \n",
       "4               Despicable Me  2010     Animation,Comedy,Family   \n",
       "\n",
       "       director_name          roi  \n",
       "0  Christopher Nolan  243100000.0  \n",
       "1      Mike Mitchell  275200000.0  \n",
       "2        David Slade   97500000.0  \n",
       "3       Byron Howard  190200000.0  \n",
       "4       Chris Renaud   40100000.0  "
      ]
     },
     "execution_count": 95,
     "metadata": {},
     "output_type": "execute_result"
    }
   ],
   "source": [
    "movie_data.head(5)"
   ]
  },
  {
   "cell_type": "markdown",
   "metadata": {},
   "source": [
    "## Analysis\n",
    "\n",
    "### Most Profitable Year of Release\n",
    "\n",
    "Films released in 2017, 2018, 2016 offer the highest mean Return on Investment, with November as a secondary option if delays occur."
   ]
  },
  {
   "cell_type": "code",
   "execution_count": 99,
   "metadata": {},
   "outputs": [],
   "source": [
    "# Group data by release year and calculate count, mean, and median of ROI\n",
    "profit_years = movie_data.groupby('year')['roi'].agg(['count', 'mean', 'median'])\n"
   ]
  },
  {
   "cell_type": "code",
   "execution_count": 100,
   "metadata": {},
   "outputs": [
    {
     "data": {
      "text/html": [
       "<div>\n",
       "<style scoped>\n",
       "    .dataframe tbody tr th:only-of-type {\n",
       "        vertical-align: middle;\n",
       "    }\n",
       "\n",
       "    .dataframe tbody tr th {\n",
       "        vertical-align: top;\n",
       "    }\n",
       "\n",
       "    .dataframe thead th {\n",
       "        text-align: right;\n",
       "    }\n",
       "</style>\n",
       "<table border=\"1\" class=\"dataframe\">\n",
       "  <thead>\n",
       "    <tr style=\"text-align: right;\">\n",
       "      <th></th>\n",
       "      <th>count</th>\n",
       "      <th>mean</th>\n",
       "      <th>median</th>\n",
       "    </tr>\n",
       "    <tr>\n",
       "      <th>year</th>\n",
       "      <th></th>\n",
       "      <th></th>\n",
       "      <th></th>\n",
       "    </tr>\n",
       "  </thead>\n",
       "  <tbody>\n",
       "    <tr>\n",
       "      <th>2017</th>\n",
       "      <td>128</td>\n",
       "      <td>5.913238e+07</td>\n",
       "      <td>10850000.0</td>\n",
       "    </tr>\n",
       "    <tr>\n",
       "      <th>2018</th>\n",
       "      <td>123</td>\n",
       "      <td>4.601018e+07</td>\n",
       "      <td>2900000.0</td>\n",
       "    </tr>\n",
       "    <tr>\n",
       "      <th>2016</th>\n",
       "      <td>144</td>\n",
       "      <td>4.306255e+07</td>\n",
       "      <td>6293250.0</td>\n",
       "    </tr>\n",
       "    <tr>\n",
       "      <th>2013</th>\n",
       "      <td>151</td>\n",
       "      <td>3.858987e+07</td>\n",
       "      <td>6353000.0</td>\n",
       "    </tr>\n",
       "    <tr>\n",
       "      <th>2014</th>\n",
       "      <td>161</td>\n",
       "      <td>3.476179e+07</td>\n",
       "      <td>3526000.0</td>\n",
       "    </tr>\n",
       "    <tr>\n",
       "      <th>2015</th>\n",
       "      <td>140</td>\n",
       "      <td>2.713382e+07</td>\n",
       "      <td>2531000.0</td>\n",
       "    </tr>\n",
       "    <tr>\n",
       "      <th>2012</th>\n",
       "      <td>178</td>\n",
       "      <td>2.348356e+07</td>\n",
       "      <td>1564000.0</td>\n",
       "    </tr>\n",
       "    <tr>\n",
       "      <th>2011</th>\n",
       "      <td>218</td>\n",
       "      <td>2.110560e+07</td>\n",
       "      <td>2800000.0</td>\n",
       "    </tr>\n",
       "    <tr>\n",
       "      <th>2010</th>\n",
       "      <td>175</td>\n",
       "      <td>1.228090e+07</td>\n",
       "      <td>16900.0</td>\n",
       "    </tr>\n",
       "  </tbody>\n",
       "</table>\n",
       "</div>"
      ],
      "text/plain": [
       "      count          mean      median\n",
       "year                                 \n",
       "2017    128  5.913238e+07  10850000.0\n",
       "2018    123  4.601018e+07   2900000.0\n",
       "2016    144  4.306255e+07   6293250.0\n",
       "2013    151  3.858987e+07   6353000.0\n",
       "2014    161  3.476179e+07   3526000.0\n",
       "2015    140  2.713382e+07   2531000.0\n",
       "2012    178  2.348356e+07   1564000.0\n",
       "2011    218  2.110560e+07   2800000.0\n",
       "2010    175  1.228090e+07     16900.0"
      ]
     },
     "execution_count": 100,
     "metadata": {},
     "output_type": "execute_result"
    }
   ],
   "source": [
    "profit_years_mean = profit_years.sort_values(by='mean', ascending=False).head(10)\n",
    "profit_years_mean"
   ]
  },
  {
   "cell_type": "markdown",
   "metadata": {},
   "source": [
    "### Director Most Likely to Create a Film with a High Return on Investment\n",
    "\n",
    "Based on data, the top directors likely to provide high Return on Investment are:\n",
    "\n",
    "``Steven Spielberg``\n",
    "\n",
    "``Ridley Scott``\n",
    "\n",
    "``Clint Eastwood``"
   ]
  },
  {
   "cell_type": "code",
   "execution_count": 84,
   "metadata": {},
   "outputs": [],
   "source": [
    "# Group data by director and calculate count, mean, and median of ROI\n",
    "profit_directors_avg = movie_data.groupby('director_name')['roi'].agg(['count', 'mean', 'median'])"
   ]
  },
  {
   "cell_type": "code",
   "execution_count": 86,
   "metadata": {},
   "outputs": [
    {
     "data": {
      "text/html": [
       "<div>\n",
       "<style scoped>\n",
       "    .dataframe tbody tr th:only-of-type {\n",
       "        vertical-align: middle;\n",
       "    }\n",
       "\n",
       "    .dataframe tbody tr th {\n",
       "        vertical-align: top;\n",
       "    }\n",
       "\n",
       "    .dataframe thead th {\n",
       "        text-align: right;\n",
       "    }\n",
       "</style>\n",
       "<table border=\"1\" class=\"dataframe\">\n",
       "  <thead>\n",
       "    <tr style=\"text-align: right;\">\n",
       "      <th></th>\n",
       "      <th>count</th>\n",
       "      <th>mean</th>\n",
       "      <th>median</th>\n",
       "    </tr>\n",
       "    <tr>\n",
       "      <th>director_name</th>\n",
       "      <th></th>\n",
       "      <th></th>\n",
       "      <th></th>\n",
       "    </tr>\n",
       "  </thead>\n",
       "  <tbody>\n",
       "    <tr>\n",
       "      <th>Steven Spielberg</th>\n",
       "      <td>7</td>\n",
       "      <td>8.061429e+07</td>\n",
       "      <td>20900000.0</td>\n",
       "    </tr>\n",
       "    <tr>\n",
       "      <th>Ridley Scott</th>\n",
       "      <td>7</td>\n",
       "      <td>1.013000e+08</td>\n",
       "      <td>111100000.0</td>\n",
       "    </tr>\n",
       "    <tr>\n",
       "      <th>Clint Eastwood</th>\n",
       "      <td>6</td>\n",
       "      <td>-2.566667e+07</td>\n",
       "      <td>-12450000.0</td>\n",
       "    </tr>\n",
       "  </tbody>\n",
       "</table>\n",
       "</div>"
      ],
      "text/plain": [
       "                  count          mean       median\n",
       "director_name                                     \n",
       "Steven Spielberg      7  8.061429e+07   20900000.0\n",
       "Ridley Scott          7  1.013000e+08  111100000.0\n",
       "Clint Eastwood        6 -2.566667e+07  -12450000.0"
      ]
     },
     "execution_count": 86,
     "metadata": {},
     "output_type": "execute_result"
    }
   ],
   "source": [
    "# Sort by the number of films directed and display top 5 directors\n",
    "top_directors = profit_directors_avg.sort_values(by='count', ascending=False).head(3)\n",
    "top_directors"
   ]
  },
  {
   "cell_type": "markdown",
   "metadata": {},
   "source": [
    "### Return on Investment Based on Genre\n",
    "\n",
    "Films with the combination of genres such as Action, Adventure, and Sci-Fi are most likely to provide a high Return on Investment."
   ]
  },
  {
   "cell_type": "code",
   "execution_count": 101,
   "metadata": {},
   "outputs": [],
   "source": [
    "# Group data by genres and calculate count, mean, and median of Return on Investment\n",
    "profit_genre_avg = movie_data.groupby('genres')['roi'].agg(['count','mean', 'median'])\n"
   ]
  },
  {
   "cell_type": "code",
   "execution_count": 93,
   "metadata": {},
   "outputs": [
    {
     "data": {
      "text/html": [
       "<div>\n",
       "<style scoped>\n",
       "    .dataframe tbody tr th:only-of-type {\n",
       "        vertical-align: middle;\n",
       "    }\n",
       "\n",
       "    .dataframe tbody tr th {\n",
       "        vertical-align: top;\n",
       "    }\n",
       "\n",
       "    .dataframe thead th {\n",
       "        text-align: right;\n",
       "    }\n",
       "</style>\n",
       "<table border=\"1\" class=\"dataframe\">\n",
       "  <thead>\n",
       "    <tr style=\"text-align: right;\">\n",
       "      <th></th>\n",
       "      <th>count</th>\n",
       "      <th>mean</th>\n",
       "      <th>median</th>\n",
       "    </tr>\n",
       "    <tr>\n",
       "      <th>genres</th>\n",
       "      <th></th>\n",
       "      <th></th>\n",
       "      <th></th>\n",
       "    </tr>\n",
       "  </thead>\n",
       "  <tbody>\n",
       "    <tr>\n",
       "      <th>Action,Comedy,Mystery</th>\n",
       "      <td>1</td>\n",
       "      <td>5.401000e+08</td>\n",
       "      <td>540100000.0</td>\n",
       "    </tr>\n",
       "    <tr>\n",
       "      <th>Adventure,Drama,Sport</th>\n",
       "      <td>1</td>\n",
       "      <td>4.750000e+08</td>\n",
       "      <td>475000000.0</td>\n",
       "    </tr>\n",
       "    <tr>\n",
       "      <th>Adventure,Fantasy</th>\n",
       "      <td>3</td>\n",
       "      <td>3.182333e+08</td>\n",
       "      <td>441600001.0</td>\n",
       "    </tr>\n",
       "    <tr>\n",
       "      <th>Adventure,Drama,Sci-Fi</th>\n",
       "      <td>2</td>\n",
       "      <td>2.373500e+08</td>\n",
       "      <td>237350000.0</td>\n",
       "    </tr>\n",
       "    <tr>\n",
       "      <th>Action,Adventure,Thriller</th>\n",
       "      <td>13</td>\n",
       "      <td>2.095154e+08</td>\n",
       "      <td>144900000.0</td>\n",
       "    </tr>\n",
       "    <tr>\n",
       "      <th>Animation,Drama,Fantasy</th>\n",
       "      <td>2</td>\n",
       "      <td>1.939500e+08</td>\n",
       "      <td>193950000.0</td>\n",
       "    </tr>\n",
       "    <tr>\n",
       "      <th>Adventure,Comedy,Sci-Fi</th>\n",
       "      <td>2</td>\n",
       "      <td>1.917470e+08</td>\n",
       "      <td>191747000.0</td>\n",
       "    </tr>\n",
       "    <tr>\n",
       "      <th>Adventure,Family,Fantasy</th>\n",
       "      <td>7</td>\n",
       "      <td>1.858857e+08</td>\n",
       "      <td>145400000.0</td>\n",
       "    </tr>\n",
       "    <tr>\n",
       "      <th>Action,Sci-Fi</th>\n",
       "      <td>1</td>\n",
       "      <td>1.701000e+08</td>\n",
       "      <td>170100000.0</td>\n",
       "    </tr>\n",
       "    <tr>\n",
       "      <th>Animation</th>\n",
       "      <td>1</td>\n",
       "      <td>1.602000e+08</td>\n",
       "      <td>160199999.0</td>\n",
       "    </tr>\n",
       "  </tbody>\n",
       "</table>\n",
       "</div>"
      ],
      "text/plain": [
       "                           count          mean       median\n",
       "genres                                                     \n",
       "Action,Comedy,Mystery          1  5.401000e+08  540100000.0\n",
       "Adventure,Drama,Sport          1  4.750000e+08  475000000.0\n",
       "Adventure,Fantasy              3  3.182333e+08  441600001.0\n",
       "Adventure,Drama,Sci-Fi         2  2.373500e+08  237350000.0\n",
       "Action,Adventure,Thriller     13  2.095154e+08  144900000.0\n",
       "Animation,Drama,Fantasy        2  1.939500e+08  193950000.0\n",
       "Adventure,Comedy,Sci-Fi        2  1.917470e+08  191747000.0\n",
       "Adventure,Family,Fantasy       7  1.858857e+08  145400000.0\n",
       "Action,Sci-Fi                  1  1.701000e+08  170100000.0\n",
       "Animation                      1  1.602000e+08  160199999.0"
      ]
     },
     "execution_count": 93,
     "metadata": {},
     "output_type": "execute_result"
    }
   ],
   "source": [
    "# Sort by mean Return on Investment and display top 10 genres\n",
    "top_genres_mean = profit_genre_avg.sort_values(by='mean', ascending=False).head(10)\n",
    "top_genres_mean"
   ]
  },
  {
   "cell_type": "markdown",
   "metadata": {},
   "source": [
    "### Conclusions and Recommendations\n",
    "\n",
    "`1`Release Timing: Aim for film releases in ``2017``, ``2018``, ``2016`` offer. \n",
    "\n",
    "`2`Director Selection: Focus on directors like Steven ``Spielberg``, ``Ridley Scott``, and ``Clint Eastwood``.\n",
    "\n",
    "`3`Genre Selection: Prioritize films with genres such as ``Action, Comedy, Mystery`` for the best Return on Investment."
   ]
  },
  {
   "cell_type": "code",
   "execution_count": null,
   "metadata": {},
   "outputs": [],
   "source": []
  }
 ],
 "metadata": {
  "kernelspec": {
   "display_name": "Python 3",
   "language": "python",
   "name": "python3"
  },
  "language_info": {
   "codemirror_mode": {
    "name": "ipython",
    "version": 3
   },
   "file_extension": ".py",
   "mimetype": "text/x-python",
   "name": "python",
   "nbconvert_exporter": "python",
   "pygments_lexer": "ipython3",
   "version": "3.8.5"
  }
 },
 "nbformat": 4,
 "nbformat_minor": 2
}
